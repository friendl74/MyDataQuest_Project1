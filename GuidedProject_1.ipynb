{
 "cells": [
  {
   "cell_type": "markdown",
   "metadata": {
    "collapsed": true
   },
   "source": [
    "Title: Profitable App Profiles for the App Store and Google Play Markets\n",
    "\n",
    "Introduction: To analyse the number of users who use our apps, and what apps attract the most users on Google Play and App Store.\n",
    "\n"
   ]
  },
  {
   "cell_type": "code",
   "execution_count": null,
   "metadata": {},
   "outputs": [],
   "source": [
    "def explore_data(dataset, start, end, rows_and_columns=False):\n",
    "    dataset_slice = dataset[start:end]    \n",
    "    for row in dataset_slice:\n",
    "        print(row)\n",
    "        print('\\n') # adds a new (empty) line after each row\n",
    "\n",
    "    if rows_and_columns:\n",
    "        print('Number of rows:', len(dataset))\n",
    "        print('Number of columns:', len(dataset[0]))"
   ]
  },
  {
   "cell_type": "code",
   "execution_count": null,
   "metadata": {},
   "outputs": [],
   "source": [
    "from csv import reader\n",
    "\n",
    "opened_file = open('AppleStore.csv')\n",
    "read_file = reader(opened_file)\n",
    "apps_data = list(read_file)\n",
    "opened_file.close()\n",
    "appsapple_header = apps_data[0]\n",
    "appsapple_data = apps_data[1:]\n",
    "\n",
    "opened_file2 = open('googleplaystore.csv')\n",
    "read_file2 = reader(opened_file2)\n",
    "appsg_data = list(read_file2)\n",
    "opened_file2.close()\n",
    "appsgoogle_header = appsg_data[0]\n",
    "appsgoogle_data = appsg_data[1:]"
   ]
  },
  {
   "cell_type": "code",
   "execution_count": null,
   "metadata": {},
   "outputs": [],
   "source": [
    "#print(appsgoogle_header)\n",
    "#print(appsgoogle_data)\n",
    "#print(appsgoogle_header)\n",
    "#print('\\n')\n",
    "#explore_data(appsapple_data, 0, 2, True)"
   ]
  },
  {
   "cell_type": "code",
   "execution_count": null,
   "metadata": {},
   "outputs": [],
   "source": [
    "print(appsgoogle_header)\n",
    "print('\\n')\n",
    "explore_data(appsgoogle_data, 0, 2, True)\n",
    "print('\\n \\n')\n",
    "print(appsapple_header)\n",
    "print('\\n')\n",
    "explore_data(appsapple_data, 0, 2, True)"
   ]
  },
  {
   "cell_type": "code",
   "execution_count": null,
   "metadata": {},
   "outputs": [],
   "source": [
    "#print(appsgoogle_data[10472])"
   ]
  },
  {
   "cell_type": "code",
   "execution_count": null,
   "metadata": {},
   "outputs": [],
   "source": [
    "#print(len(appsgoogle_data))\n",
    "del appsgoogle_data[10472]  # don't run this more than once\n",
    "#print(len(appsgoogle_data))"
   ]
  },
  {
   "cell_type": "markdown",
   "metadata": {},
   "source": [
    "The Google play data set has duplicate entries"
   ]
  },
  {
   "cell_type": "code",
   "execution_count": null,
   "metadata": {},
   "outputs": [],
   "source": [
    "#for app in appsgoogle_data:\n",
    "#    name = app[0]\n",
    "#    if name == 'Instagram':\n",
    "#       print(app)"
   ]
  },
  {
   "cell_type": "code",
   "execution_count": null,
   "metadata": {},
   "outputs": [],
   "source": [
    "duplicate_apps = []\n",
    "unique_apps = []\n",
    "\n",
    "for app in appsgoogle_data:\n",
    "    name = app[0]\n",
    "    if name in unique_apps:\n",
    "        duplicate_apps.append(name)\n",
    "    else:\n",
    "        unique_apps.append(name)\n",
    "\n",
    "print('Number of duplicate apps:', len(duplicate_apps))"
   ]
  },
  {
   "cell_type": "markdown",
   "metadata": {},
   "source": [
    "Going to remove all duplicates, but keep the record that has the most number of reviews as that is probably the most recent record."
   ]
  },
  {
   "cell_type": "code",
   "execution_count": null,
   "metadata": {},
   "outputs": [],
   "source": [
    "reviews_max = {}\n",
    "\n",
    "for app in appsgoogle_data:\n",
    "    name = app[0]\n",
    "    n_reviews = float(app[3])\n",
    "    \n",
    "    if name in reviews_max and reviews_max[name] < n_reviews:\n",
    "        reviews_max[name] = n_reviews\n",
    "        \n",
    "    elif name not in reviews_max:\n",
    "        reviews_max[name] = n_reviews\n",
    "\n",
    "#print(reviews_max)\n",
    "#print (len(reviews_max))"
   ]
  },
  {
   "cell_type": "code",
   "execution_count": null,
   "metadata": {},
   "outputs": [],
   "source": [
    "#del appsgoogle_data[10472]"
   ]
  },
  {
   "cell_type": "code",
   "execution_count": null,
   "metadata": {},
   "outputs": [],
   "source": [
    "android_clean = []\n",
    "already_added = []\n",
    "\n",
    "for app in appsgoogle_data:\n",
    "    name = app[0]\n",
    "    n_reviews = float(app[3])\n",
    "    \n",
    "    if (reviews_max[name] == n_reviews) and (name not in already_added):\n",
    "        android_clean.append(app)\n",
    "        already_added.append(name) # make sure this is inside the if block\n",
    "\n",
    "print(len(android_clean))\n"
   ]
  },
  {
   "cell_type": "code",
   "execution_count": null,
   "metadata": {},
   "outputs": [],
   "source": [
    "def check_string (appname):\n",
    "    \n",
    "    asciierror = 0\n",
    "    \n",
    "    for char in appname:\n",
    "        if ord(char) > 127:\n",
    "            asciierror += 1\n",
    "    \n",
    "    if asciierror > 3:\n",
    "        return False\n",
    "    else:    \n",
    "        return True\n",
    "\n",
    "#print(check_string('Instagram'))\n",
    "#print(check_string('爱奇艺PPS -《欢乐颂2》电视剧热播'))\n",
    "#print(check_string('Docs To Go™ Free Office Suite'))\n",
    "#print(check_string('Instachat 😜'))\n",
    "    "
   ]
  },
  {
   "cell_type": "code",
   "execution_count": null,
   "metadata": {},
   "outputs": [],
   "source": [
    "android_english = []\n",
    "apple_english = []\n",
    "\n",
    "for row in android_clean:\n",
    "    if check_string(row[0]):\n",
    "        android_english.append(row)\n",
    "\n",
    "for row in appsapple_data:\n",
    "    if check_string(row[1]):\n",
    "        apple_english.append(row)\n",
    "        \n",
    "print('Length of android_english: ', len(android_english))\n",
    "print('\\n')\n",
    "print('Length of apple_english: ', len(apple_english))\n",
    "\n",
    "#print (android_english[:1])\n",
    "\n",
    "#print(appsgoogle_header)\n",
    "#print('\\n')\n",
    "#explore_data(android_english, 0, 2, True)\n",
    "\n",
    "    "
   ]
  },
  {
   "cell_type": "code",
   "execution_count": null,
   "metadata": {},
   "outputs": [],
   "source": [
    "android_freeapps = []\n",
    "apple_freeapps = []\n",
    "\n",
    "for row in android_english:\n",
    "    if (row[7] == '0'):\n",
    "        android_freeapps.append(row)\n",
    "\n",
    "for row in apple_english:\n",
    "    if (row[4] == '0.0'):\n",
    "        apple_freeapps.append(row)\n",
    "        \n",
    "print('android_freeapps: ', len(android_freeapps))\n",
    "print('\\n')\n",
    "print('apple_freeapps: ', len(apple_freeapps))\n",
    "\n",
    "        \n",
    "\n",
    "\n"
   ]
  },
  {
   "cell_type": "markdown",
   "metadata": {},
   "source": [
    "We need to find the app profiles that are successful in both Android and Apple stores.  "
   ]
  },
  {
   "cell_type": "code",
   "execution_count": null,
   "metadata": {},
   "outputs": [],
   "source": [
    "def freq_table(dataset, index):\n",
    "    \n",
    "    table1 = {}  #first dictionary\n",
    "    total = 0    #number of times\n",
    "    \n",
    "    for row in dataset:\n",
    "        total += 1\n",
    "        value = row[index]\n",
    "        if value in table1:\n",
    "            table1[value] += 1\n",
    "        else:\n",
    "            table1[value] = 1\n",
    "    \n",
    "    tablefinal = {} #Dictionary to return\n",
    "    \n",
    "    #work out the percentages\n",
    "    \n",
    "    for key in table1:\n",
    "        percentage1 = (table1[key] / total) * 100\n",
    "        tablefinal[key] = percentage1\n",
    "    \n",
    "    return tablefinal"
   ]
  },
  {
   "cell_type": "code",
   "execution_count": null,
   "metadata": {},
   "outputs": [],
   "source": [
    "def display_table(dataset, index):\n",
    "    table = freq_table(dataset, index)\n",
    "    table_display = []\n",
    "    for key in table:\n",
    "        key_val_as_tuple = (table[key], key)\n",
    "        table_display.append(key_val_as_tuple)\n",
    "\n",
    "    table_sorted = sorted(table_display, reverse = True)\n",
    "    for entry in table_sorted:\n",
    "        print(entry[1], ':', entry[0])"
   ]
  },
  {
   "cell_type": "code",
   "execution_count": null,
   "metadata": {},
   "outputs": [],
   "source": [
    "print(display_table(apple_freeapps, 11)) #prime_genre in apple\n",
    "print('\\n')\n",
    "print(display_table(android_freeapps, 9)) #Genres in android\n",
    "print('\\n')\n",
    "print(display_table(android_freeapps,1)) #Category in android\n",
    "\n",
    "\n",
    "\n"
   ]
  },
  {
   "cell_type": "code",
   "execution_count": null,
   "metadata": {},
   "outputs": [],
   "source": [
    "\n",
    "apptable = freq_table(apple_freeapps, 11)\n",
    "\n",
    "for genre in apptable:\n",
    "    total = 0\n",
    "    len_genre = 0\n",
    "    for app in apple_freeapps:\n",
    "        genre_app = app[-5]\n",
    "        if genre_app == genre:\n",
    "            n_ratings = float(app[5])\n",
    "            total += n_ratings\n",
    "            len_genre += 1\n",
    "    avgnum = total / len_genre\n",
    "    print (genre, \" \", avgnum)\n",
    "            \n",
    "            \n",
    "            \n",
    "        "
   ]
  },
  {
   "cell_type": "code",
   "execution_count": null,
   "metadata": {},
   "outputs": [],
   "source": [
    "categories_android = freq_table(android_freeapps, 1)\n",
    "\n",
    "for category in categories_android:\n",
    "    total = 0\n",
    "    len_category = 0\n",
    "    for app in android_freeapps:\n",
    "        category_app = app[1]\n",
    "        if category_app == category:            \n",
    "            n_installs = app[5]\n",
    "            n_installs = n_installs.replace(',', '')\n",
    "            n_installs = n_installs.replace('+', '')\n",
    "            total += float(n_installs)\n",
    "            len_category += 1\n",
    "    avg_n_installs = total / len_category\n",
    "    print(category, ':', avg_n_installs)"
   ]
  }
 ],
 "metadata": {
  "kernelspec": {
   "display_name": "Python 3",
   "language": "python",
   "name": "python3"
  },
  "language_info": {
   "codemirror_mode": {
    "name": "ipython",
    "version": 3
   },
   "file_extension": ".py",
   "mimetype": "text/x-python",
   "name": "python",
   "nbconvert_exporter": "python",
   "pygments_lexer": "ipython3",
   "version": "3.8.2"
  }
 },
 "nbformat": 4,
 "nbformat_minor": 2
}
